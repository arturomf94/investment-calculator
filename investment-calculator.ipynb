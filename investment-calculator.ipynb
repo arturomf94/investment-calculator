{
 "cells": [
  {
   "cell_type": "markdown",
   "metadata": {},
   "source": [
    "# The Investment Calculator"
   ]
  },
  {
   "cell_type": "markdown",
   "metadata": {},
   "source": [
    "Imports"
   ]
  },
  {
   "cell_type": "code",
   "execution_count": 173,
   "metadata": {},
   "outputs": [],
   "source": [
    "import code.portfolio as portfolio_module\n",
    "import code.loan as loan_module\n",
    "import matplotlib.pyplot as plt; plt.rcdefaults()\n",
    "import numpy as np\n",
    "from ipywidgets import interact, interactive, interact_manual"
   ]
  },
  {
   "cell_type": "markdown",
   "metadata": {},
   "source": [
    "Inputs"
   ]
  },
  {
   "cell_type": "markdown",
   "metadata": {},
   "source": [
    "Declare investment amount:"
   ]
  },
  {
   "cell_type": "code",
   "execution_count": 174,
   "metadata": {},
   "outputs": [],
   "source": [
    "def calculate(investment_amount, A, B, C, D, E, F, length1, length2, length3, semanal, catorcenal, mensual):\n",
    "    \n",
    "    accepted_grades = {\n",
    "        'A':int(A),\n",
    "        'B':int(B),\n",
    "        'C':int(C),\n",
    "        'D':int(D),\n",
    "        'E':int(E),\n",
    "        'F':int(F)\n",
    "    }\n",
    "\n",
    "    accepted_lengths = {\n",
    "        '6':int(length1),\n",
    "        '12':int(length2),\n",
    "        '18':int(length3)\n",
    "    }\n",
    "\n",
    "    accepted_frequencies = {\n",
    "        'Semanal':int(semanal),\n",
    "        'Catorcenal':int(catorcenal),\n",
    "        'Mensual':int(mensual)\n",
    "    }\n",
    "    \n",
    "    portfolio = portfolio_module.Portfolio(accepted_lengths = accepted_lengths, \\\n",
    "\t\t\t\t\t\t\t\t\t \taccepted_frequencies = accepted_frequencies, \\\n",
    "\t\t\t\t\t\t\t\t\t \taccepted_grades = accepted_grades)\n",
    "\n",
    "    portfolio_data = portfolio.get_data()\n",
    "\n",
    "    portfolio_summary = portfolio.get_summary(investment_amount = investment_amount)\n",
    "\n",
    "    portfolio_grade_distribution = portfolio.get_grade_distribution(accepted_grades)\n",
    "\n",
    "    # Extract Payments, Capital, Interest and VAT\n",
    "\n",
    "    payment = []\n",
    "    accumulated_payment = []\n",
    "    capital = []\n",
    "    accumulated_capital = []\n",
    "    interest = []\n",
    "    accumulated_interest = []\n",
    "    vat = []\n",
    "    accumulated_vat = []\n",
    "    mes = []\n",
    "\n",
    "    for i in range(0,18):\n",
    "        payment.append(portfolio_summary[i][1])\n",
    "        capital.append(portfolio_summary[i][2])\n",
    "        interest.append(portfolio_summary[i][3])\n",
    "        vat.append(portfolio_summary[i][4])\n",
    "        mes.append(i + 1)\n",
    "        accumulated_payment.append(sum(payment))\n",
    "        accumulated_capital.append(sum(capital))\n",
    "        accumulated_interest.append(sum(interest))\n",
    "        accumulated_vat.append(sum(vat))\n",
    "\n",
    "\n",
    "    # Plot Accumulated Capital and Interest \n",
    "    accumulated_capital_subplot = plt.bar(mes, accumulated_capital, align = 'center', alpha = 0.5)\n",
    "    accumulated_interest_subplot = plt.bar(mes, accumulated_interest, align = 'center', \\\n",
    "                                            bottom = accumulated_capital, alpha = 0.5)\n",
    "\n",
    "    plt.ylabel('Pesos')\n",
    "    plt.xlabel('Mes')\n",
    "    plt.title('Capital e Interes Acumulado')\n",
    "    plt.xticks(mes,mes)\n",
    "    plt.legend((accumulated_capital_subplot[0], accumulated_interest_subplot[0]), ('Capital', 'Interest'))\n",
    "\n",
    "    plt.show()\n",
    "\n",
    "    # Extract Grade Distribution Data\n",
    "\n",
    "    grades = portfolio_grade_distribution[0]\n",
    "    proportion = portfolio_grade_distribution[1]\n",
    "\n",
    "    # Pie Chart for Grade Distribution\n",
    "\n",
    "    plt.pie(proportion, labels=grades, autopct='%1.1f%%')\n",
    "\n",
    "    plt.show()"
   ]
  },
  {
   "cell_type": "code",
   "execution_count": 175,
   "metadata": {},
   "outputs": [
    {
     "data": {
      "application/vnd.jupyter.widget-view+json": {
       "model_id": "413d3ae5131f42bf8fbd351a3d98b378",
       "version_major": 2,
       "version_minor": 0
      },
      "text/html": [
       "<p>Failed to display Jupyter Widget of type <code>interactive</code>.</p>\n",
       "<p>\n",
       "  If you're reading this message in the Jupyter Notebook or JupyterLab Notebook, it may mean\n",
       "  that the widgets JavaScript is still loading. If this message persists, it\n",
       "  likely means that the widgets JavaScript library is either not installed or\n",
       "  not enabled. See the <a href=\"https://ipywidgets.readthedocs.io/en/stable/user_install.html\">Jupyter\n",
       "  Widgets Documentation</a> for setup instructions.\n",
       "</p>\n",
       "<p>\n",
       "  If you're reading this message in another frontend (for example, a static\n",
       "  rendering on GitHub or <a href=\"https://nbviewer.jupyter.org/\">NBViewer</a>),\n",
       "  it may mean that your frontend doesn't currently support widgets.\n",
       "</p>\n"
      ],
      "text/plain": [
       "interactive(children=(IntSlider(value=50000, description=u'investment_amount', max=100000, min=5000, step=5000), Checkbox(value=True, description=u'A'), Checkbox(value=True, description=u'B'), Checkbox(value=True, description=u'C'), Checkbox(value=True, description=u'D'), Checkbox(value=True, description=u'E'), Checkbox(value=True, description=u'F'), Checkbox(value=True, description=u'length1'), Checkbox(value=True, description=u'length2'), Checkbox(value=True, description=u'length3'), Checkbox(value=True, description=u'semanal'), Checkbox(value=True, description=u'catorcenal'), Checkbox(value=True, description=u'mensual'), Button(description=u'Run Interact', style=ButtonStyle()), Output()), _dom_classes=('widget-interact',))"
      ]
     },
     "metadata": {},
     "output_type": "display_data"
    }
   ],
   "source": [
    "interact_manual(calculate,investment_amount=(5000,100000,5000),\\\n",
    "                A = True, B = True, C = True, D = True, E = True, F = True,\\\n",
    "                length1 = True, length2 = True, length3 = True,\\\n",
    "                semanal = True, catorcenal = True, mensual = True);"
   ]
  }
 ],
 "metadata": {
  "kernelspec": {
   "display_name": "Python 2",
   "language": "python",
   "name": "python2"
  },
  "language_info": {
   "codemirror_mode": {
    "name": "ipython",
    "version": 2
   },
   "file_extension": ".py",
   "mimetype": "text/x-python",
   "name": "python",
   "nbconvert_exporter": "python",
   "pygments_lexer": "ipython2",
   "version": "2.7.12"
  }
 },
 "nbformat": 4,
 "nbformat_minor": 2
}
